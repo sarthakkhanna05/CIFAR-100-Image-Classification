{
 "cells": [
  {
   "cell_type": "code",
   "execution_count": 1,
   "metadata": {
    "colab": {
     "base_uri": "https://localhost:8080/"
    },
    "id": "xyRHO-cjAZlF",
    "outputId": "a9d76e3e-ee2c-4372-9bcb-1584e3b21029"
   },
   "outputs": [
    {
     "name": "stdout",
     "output_type": "stream",
     "text": [
      "Mounted at /content/drive\n"
     ]
    }
   ],
   "source": [
    "from google.colab import drive\n",
    "drive.mount('/content/drive')"
   ]
  },
  {
   "cell_type": "code",
   "execution_count": 2,
   "metadata": {
    "colab": {
     "base_uri": "https://localhost:8080/",
     "height": 35
    },
    "execution": {
     "iopub.execute_input": "2021-10-11T22:38:10.072264Z",
     "iopub.status.busy": "2021-10-11T22:38:10.071848Z",
     "iopub.status.idle": "2021-10-11T22:38:13.942355Z",
     "shell.execute_reply": "2021-10-11T22:38:13.941706Z",
     "shell.execute_reply.started": "2021-10-11T22:38:10.072197Z"
    },
    "id": "GIdZxy0RANuP",
    "outputId": "737a3e16-1101-4ee4-f752-6a49dc6e5855"
   },
   "outputs": [
    {
     "data": {
      "application/vnd.google.colaboratory.intrinsic+json": {
       "type": "string"
      },
      "text/plain": [
       "'2.6.0'"
      ]
     },
     "execution_count": 2,
     "metadata": {},
     "output_type": "execute_result"
    }
   ],
   "source": [
    "import tensorflow\n",
    "tensorflow.__version__"
   ]
  },
  {
   "cell_type": "code",
   "execution_count": 3,
   "metadata": {
    "colab": {
     "base_uri": "https://localhost:8080/"
    },
    "execution": {
     "iopub.execute_input": "2021-10-11T22:38:14.365729Z",
     "iopub.status.busy": "2021-10-11T22:38:14.365068Z",
     "iopub.status.idle": "2021-10-11T22:38:14.535669Z",
     "shell.execute_reply": "2021-10-11T22:38:14.534317Z",
     "shell.execute_reply.started": "2021-10-11T22:38:14.365694Z"
    },
    "id": "OLTiXameANuQ",
    "outputId": "d1d54db4-a4aa-472d-87ff-b965abd81ce1"
   },
   "outputs": [
    {
     "data": {
      "text/plain": [
       "[PhysicalDevice(name='/physical_device:CPU:0', device_type='CPU'),\n",
       " PhysicalDevice(name='/physical_device:GPU:0', device_type='GPU')]"
      ]
     },
     "execution_count": 3,
     "metadata": {},
     "output_type": "execute_result"
    }
   ],
   "source": [
    "tensorflow.config.list_physical_devices()"
   ]
  },
  {
   "cell_type": "code",
   "execution_count": 4,
   "metadata": {
    "execution": {
     "iopub.execute_input": "2021-10-11T22:38:18.318888Z",
     "iopub.status.busy": "2021-10-11T22:38:18.318609Z",
     "iopub.status.idle": "2021-10-11T22:38:18.325987Z",
     "shell.execute_reply": "2021-10-11T22:38:18.325130Z",
     "shell.execute_reply.started": "2021-10-11T22:38:18.318858Z"
    },
    "id": "0YwDRVCaANuR"
   },
   "outputs": [],
   "source": [
    "import warnings\n",
    "warnings.filterwarnings('ignore')"
   ]
  },
  {
   "cell_type": "code",
   "execution_count": 5,
   "metadata": {
    "execution": {
     "iopub.execute_input": "2021-10-11T22:38:19.523707Z",
     "iopub.status.busy": "2021-10-11T22:38:19.523450Z",
     "iopub.status.idle": "2021-10-11T22:38:20.092992Z",
     "shell.execute_reply": "2021-10-11T22:38:20.092273Z",
     "shell.execute_reply.started": "2021-10-11T22:38:19.523679Z"
    },
    "id": "QN_ZtyRPANuR"
   },
   "outputs": [],
   "source": [
    "import matplotlib.pyplot as plt\n",
    "import numpy as np\n",
    "import pandas as pd\n",
    "import tensorflow as tf\n",
    "\n",
    "from tensorflow import keras\n",
    "from tensorflow.keras import layers\n",
    "from tensorflow.keras.models import Sequential\n",
    "from tensorflow.keras.layers import Conv2D, MaxPooling2D, Dropout, Flatten, Dense, Activation, BatchNormalization\n",
    "from tensorflow.keras.callbacks import ModelCheckpoint, ReduceLROnPlateau, EarlyStopping, LearningRateScheduler\n",
    "from tensorflow.keras.preprocessing.image import ImageDataGenerator\n",
    "from sklearn.model_selection import train_test_split"
   ]
  },
  {
   "cell_type": "markdown",
   "metadata": {
    "id": "KGvXOkmZANuT"
   },
   "source": [
    "## Load data"
   ]
  },
  {
   "cell_type": "code",
   "execution_count": 6,
   "metadata": {
    "execution": {
     "iopub.execute_input": "2021-10-11T22:38:22.862153Z",
     "iopub.status.busy": "2021-10-11T22:38:22.861260Z",
     "iopub.status.idle": "2021-10-11T22:38:22.868069Z",
     "shell.execute_reply": "2021-10-11T22:38:22.865574Z",
     "shell.execute_reply.started": "2021-10-11T22:38:22.862113Z"
    },
    "id": "1yqXU4hGANuV"
   },
   "outputs": [],
   "source": [
    "num_classes = 100\n",
    "img_height = 32\n",
    "img_width = 32\n",
    "num_channels = 3\n",
    "input_shape = (img_height, img_width, num_channels)"
   ]
  },
  {
   "cell_type": "code",
   "execution_count": 7,
   "metadata": {
    "colab": {
     "base_uri": "https://localhost:8080/"
    },
    "execution": {
     "iopub.execute_input": "2021-10-11T22:38:24.428589Z",
     "iopub.status.busy": "2021-10-11T22:38:24.428051Z",
     "iopub.status.idle": "2021-10-11T22:38:30.122643Z",
     "shell.execute_reply": "2021-10-11T22:38:30.121939Z",
     "shell.execute_reply.started": "2021-10-11T22:38:24.428555Z"
    },
    "id": "lcIA_FXNANuX",
    "outputId": "3634f086-80b0-4125-9860-89dde621998a"
   },
   "outputs": [
    {
     "data": {
      "text/plain": [
       "(10000, 32, 32, 3)"
      ]
     },
     "execution_count": 7,
     "metadata": {},
     "output_type": "execute_result"
    }
   ],
   "source": [
    "train_df = pd.read_csv(\"/content/drive/MyDrive/Lab1 part2/1/train_data.csv\", header=None)\n",
    "train_df = np.array(train_df)\n",
    "train_df = train_df.reshape(-1, img_height, img_width, num_channels)\n",
    "train_df.shape"
   ]
  },
  {
   "cell_type": "code",
   "execution_count": 8,
   "metadata": {
    "colab": {
     "base_uri": "https://localhost:8080/",
     "height": 204
    },
    "execution": {
     "iopub.execute_input": "2021-10-11T22:38:30.941835Z",
     "iopub.status.busy": "2021-10-11T22:38:30.941142Z",
     "iopub.status.idle": "2021-10-11T22:38:30.970076Z",
     "shell.execute_reply": "2021-10-11T22:38:30.969254Z",
     "shell.execute_reply.started": "2021-10-11T22:38:30.941787Z"
    },
    "id": "w6_xpW-vANuZ",
    "outputId": "69416a8b-2596-4d32-8ee3-be6a681947eb"
   },
   "outputs": [
    {
     "data": {
      "text/html": [
       "<div>\n",
       "<style scoped>\n",
       "    .dataframe tbody tr th:only-of-type {\n",
       "        vertical-align: middle;\n",
       "    }\n",
       "\n",
       "    .dataframe tbody tr th {\n",
       "        vertical-align: top;\n",
       "    }\n",
       "\n",
       "    .dataframe thead th {\n",
       "        text-align: right;\n",
       "    }\n",
       "</style>\n",
       "<table border=\"1\" class=\"dataframe\">\n",
       "  <thead>\n",
       "    <tr style=\"text-align: right;\">\n",
       "      <th></th>\n",
       "      <th>id</th>\n",
       "      <th>label</th>\n",
       "    </tr>\n",
       "  </thead>\n",
       "  <tbody>\n",
       "    <tr>\n",
       "      <th>0</th>\n",
       "      <td>0</td>\n",
       "      <td>65</td>\n",
       "    </tr>\n",
       "    <tr>\n",
       "      <th>1</th>\n",
       "      <td>1</td>\n",
       "      <td>10</td>\n",
       "    </tr>\n",
       "    <tr>\n",
       "      <th>2</th>\n",
       "      <td>2</td>\n",
       "      <td>71</td>\n",
       "    </tr>\n",
       "    <tr>\n",
       "      <th>3</th>\n",
       "      <td>3</td>\n",
       "      <td>0</td>\n",
       "    </tr>\n",
       "    <tr>\n",
       "      <th>4</th>\n",
       "      <td>4</td>\n",
       "      <td>67</td>\n",
       "    </tr>\n",
       "  </tbody>\n",
       "</table>\n",
       "</div>"
      ],
      "text/plain": [
       "   id  label\n",
       "0   0     65\n",
       "1   1     10\n",
       "2   2     71\n",
       "3   3      0\n",
       "4   4     67"
      ]
     },
     "execution_count": 8,
     "metadata": {},
     "output_type": "execute_result"
    }
   ],
   "source": [
    "train_label = pd.read_csv(\"/content/drive/MyDrive/Lab1 part2/1/train_label.csv\")\n",
    "train_label.head()"
   ]
  },
  {
   "cell_type": "code",
   "execution_count": 9,
   "metadata": {
    "colab": {
     "base_uri": "https://localhost:8080/"
    },
    "execution": {
     "iopub.execute_input": "2021-10-11T22:38:32.655753Z",
     "iopub.status.busy": "2021-10-11T22:38:32.655483Z",
     "iopub.status.idle": "2021-10-11T22:38:32.661016Z",
     "shell.execute_reply": "2021-10-11T22:38:32.660334Z",
     "shell.execute_reply.started": "2021-10-11T22:38:32.655723Z"
    },
    "id": "1AIrU8PaANua",
    "outputId": "1d6f0d32-696f-4ec7-a804-90de36911be5"
   },
   "outputs": [
    {
     "data": {
      "text/plain": [
       "(10000, 2)"
      ]
     },
     "execution_count": 9,
     "metadata": {},
     "output_type": "execute_result"
    }
   ],
   "source": [
    "train_label.shape"
   ]
  },
  {
   "cell_type": "code",
   "execution_count": 10,
   "metadata": {
    "execution": {
     "iopub.execute_input": "2021-10-11T22:38:39.897462Z",
     "iopub.status.busy": "2021-10-11T22:38:39.897197Z",
     "iopub.status.idle": "2021-10-11T22:38:40.257330Z",
     "shell.execute_reply": "2021-10-11T22:38:40.256593Z",
     "shell.execute_reply.started": "2021-10-11T22:38:39.897434Z"
    },
    "id": "wAvw3EkpANub"
   },
   "outputs": [],
   "source": [
    "x_train, x_val, y_train, y_val = train_test_split(train_df, train_label.label, test_size = 0.08, random_state=20, stratify=train_label.label)\n",
    "y_train = tf.keras.utils.to_categorical(y_train)\n",
    "y_val = tf.keras.utils.to_categorical(y_val)"
   ]
  },
  {
   "cell_type": "code",
   "execution_count": 13,
   "metadata": {
    "colab": {
     "base_uri": "https://localhost:8080/"
    },
    "execution": {
     "iopub.execute_input": "2021-10-11T22:38:44.577788Z",
     "iopub.status.busy": "2021-10-11T22:38:44.577517Z",
     "iopub.status.idle": "2021-10-11T22:38:45.791719Z",
     "shell.execute_reply": "2021-10-11T22:38:45.791007Z",
     "shell.execute_reply.started": "2021-10-11T22:38:44.577760Z"
    },
    "id": "1og4zpVmANud",
    "outputId": "7d6fa7f4-7fe0-44cc-a69d-58a58f849d1e"
   },
   "outputs": [
    {
     "data": {
      "text/plain": [
       "(2000, 32, 32, 3)"
      ]
     },
     "execution_count": 13,
     "metadata": {},
     "output_type": "execute_result"
    }
   ],
   "source": [
    "test_df = pd.read_csv(\"/content/drive/MyDrive/Lab1 part2/1/test_data.csv\", header=None)\n",
    "test_df = np.array(test_df)\n",
    "test_df = test_df.reshape(-1, img_height, img_width, num_channels)\n",
    "test_df.shape"
   ]
  },
  {
   "cell_type": "markdown",
   "metadata": {
    "id": "PMMsmb_rANud"
   },
   "source": [
    "## Defining model "
   ]
  },
  {
   "cell_type": "code",
   "execution_count": 32,
   "metadata": {
    "execution": {
     "iopub.execute_input": "2021-10-11T23:53:19.627542Z",
     "iopub.status.busy": "2021-10-11T23:53:19.626916Z",
     "iopub.status.idle": "2021-10-11T23:53:19.828349Z",
     "shell.execute_reply": "2021-10-11T23:53:19.827490Z",
     "shell.execute_reply.started": "2021-10-11T23:53:19.627485Z"
    },
    "id": "P1lk3PLTANuk"
   },
   "outputs": [],
   "source": [
    "model = Sequential()\n",
    "model.add(Conv2D(32, (3, 3), activation='relu', kernel_initializer='he_uniform', padding='same', input_shape=(32, 32, 3)))\n",
    "model.add(BatchNormalization())\n",
    "model.add(Conv2D(32, (3, 3), activation='relu', kernel_initializer='he_uniform', padding='same'))\n",
    "model.add(BatchNormalization())\n",
    "model.add(MaxPooling2D((2, 2)))\n",
    "model.add(Dropout(0.2))\n",
    "\n",
    "model.add(Conv2D(64, (3, 3), activation='relu', kernel_initializer='he_uniform', padding='same'))\n",
    "model.add(BatchNormalization())\n",
    "model.add(Conv2D(64, (3, 3), activation='relu', kernel_initializer='he_uniform', padding='same'))\n",
    "model.add(BatchNormalization())\n",
    "model.add(MaxPooling2D((2, 2)))\n",
    "model.add(Dropout(0.3))\n",
    "\n",
    "model.add(Conv2D(128, (3, 3), activation='relu', kernel_initializer='he_uniform', padding='same'))\n",
    "model.add(BatchNormalization())\n",
    "model.add(Conv2D(128, (3, 3), activation='relu', kernel_initializer='he_uniform', padding='same'))\n",
    "model.add(BatchNormalization())\n",
    "model.add(MaxPooling2D((2, 2)))\n",
    "model.add(Dropout(0.5))\n",
    "\n",
    "model.add(Flatten())\n",
    "model.add(Dense(1024, activation='relu', kernel_initializer='he_uniform'))\n",
    "model.add(BatchNormalization())\n",
    "model.add(Dropout(0.5))\n",
    "\n",
    "model.add(Dense(512, activation='relu', kernel_initializer='he_uniform'))\n",
    "model.add(BatchNormalization())\n",
    "model.add(Dropout(0.6))\n",
    "model.add(Dense(100, activation='softmax'))\n",
    "\n",
    "model.compile(optimizer=tf.keras.optimizers.Adam(), loss='categorical_crossentropy', metrics=['accuracy'])"
   ]
  },
  {
   "cell_type": "code",
   "execution_count": 33,
   "metadata": {
    "colab": {
     "base_uri": "https://localhost:8080/"
    },
    "execution": {
     "iopub.execute_input": "2021-10-11T23:53:20.278871Z",
     "iopub.status.busy": "2021-10-11T23:53:20.278069Z",
     "iopub.status.idle": "2021-10-11T23:53:20.296673Z",
     "shell.execute_reply": "2021-10-11T23:53:20.294157Z",
     "shell.execute_reply.started": "2021-10-11T23:53:20.278803Z"
    },
    "id": "oHn_PcukANul",
    "outputId": "78f7da69-953d-4014-9332-e9d0a46abef9"
   },
   "outputs": [
    {
     "name": "stdout",
     "output_type": "stream",
     "text": [
      "Model: \"sequential_3\"\n",
      "_________________________________________________________________\n",
      "Layer (type)                 Output Shape              Param #   \n",
      "=================================================================\n",
      "conv2d_23 (Conv2D)           (None, 32, 32, 32)        896       \n",
      "_________________________________________________________________\n",
      "batch_normalization_22 (Batc (None, 32, 32, 32)        128       \n",
      "_________________________________________________________________\n",
      "conv2d_24 (Conv2D)           (None, 32, 32, 32)        9248      \n",
      "_________________________________________________________________\n",
      "batch_normalization_23 (Batc (None, 32, 32, 32)        128       \n",
      "_________________________________________________________________\n",
      "max_pooling2d_11 (MaxPooling (None, 16, 16, 32)        0         \n",
      "_________________________________________________________________\n",
      "dropout_10 (Dropout)         (None, 16, 16, 32)        0         \n",
      "_________________________________________________________________\n",
      "conv2d_25 (Conv2D)           (None, 16, 16, 64)        18496     \n",
      "_________________________________________________________________\n",
      "batch_normalization_24 (Batc (None, 16, 16, 64)        256       \n",
      "_________________________________________________________________\n",
      "conv2d_26 (Conv2D)           (None, 16, 16, 64)        36928     \n",
      "_________________________________________________________________\n",
      "batch_normalization_25 (Batc (None, 16, 16, 64)        256       \n",
      "_________________________________________________________________\n",
      "max_pooling2d_12 (MaxPooling (None, 8, 8, 64)          0         \n",
      "_________________________________________________________________\n",
      "dropout_11 (Dropout)         (None, 8, 8, 64)          0         \n",
      "_________________________________________________________________\n",
      "conv2d_27 (Conv2D)           (None, 8, 8, 128)         73856     \n",
      "_________________________________________________________________\n",
      "batch_normalization_26 (Batc (None, 8, 8, 128)         512       \n",
      "_________________________________________________________________\n",
      "conv2d_28 (Conv2D)           (None, 8, 8, 128)         147584    \n",
      "_________________________________________________________________\n",
      "batch_normalization_27 (Batc (None, 8, 8, 128)         512       \n",
      "_________________________________________________________________\n",
      "max_pooling2d_13 (MaxPooling (None, 4, 4, 128)         0         \n",
      "_________________________________________________________________\n",
      "dropout_12 (Dropout)         (None, 4, 4, 128)         0         \n",
      "_________________________________________________________________\n",
      "flatten_3 (Flatten)          (None, 2048)              0         \n",
      "_________________________________________________________________\n",
      "dense_8 (Dense)              (None, 1024)              2098176   \n",
      "_________________________________________________________________\n",
      "batch_normalization_28 (Batc (None, 1024)              4096      \n",
      "_________________________________________________________________\n",
      "dropout_13 (Dropout)         (None, 1024)              0         \n",
      "_________________________________________________________________\n",
      "dense_9 (Dense)              (None, 512)               524800    \n",
      "_________________________________________________________________\n",
      "batch_normalization_29 (Batc (None, 512)               2048      \n",
      "_________________________________________________________________\n",
      "dropout_14 (Dropout)         (None, 512)               0         \n",
      "_________________________________________________________________\n",
      "dense_10 (Dense)             (None, 100)               51300     \n",
      "=================================================================\n",
      "Total params: 2,969,220\n",
      "Trainable params: 2,965,252\n",
      "Non-trainable params: 3,968\n",
      "_________________________________________________________________\n"
     ]
    }
   ],
   "source": [
    "model.summary()"
   ]
  },
  {
   "cell_type": "code",
   "execution_count": 34,
   "metadata": {
    "colab": {
     "base_uri": "https://localhost:8080/"
    },
    "execution": {
     "iopub.execute_input": "2021-10-11T23:53:20.326862Z",
     "iopub.status.busy": "2021-10-11T23:53:20.326633Z",
     "iopub.status.idle": "2021-10-11T23:53:20.759419Z",
     "shell.execute_reply": "2021-10-11T23:53:20.758647Z",
     "shell.execute_reply.started": "2021-10-11T23:53:20.326817Z"
    },
    "id": "dm9SoWVGANum",
    "outputId": "bd06c7f8-9d9e-48ee-d78a-abe0763f4fa0"
   },
   "outputs": [
    {
     "name": "stdout",
     "output_type": "stream",
     "text": [
      "Validation accuracy = 1.13% \t Validation Loss = 1260.4321\n"
     ]
    }
   ],
   "source": [
    "validation_loss, validation_accuracy = model.evaluate(x_val, y_val, verbose = 0)\n",
    "print(\"Validation accuracy = %0.2f%% \\t Validation Loss = %0.4f\" %(100 * validation_accuracy, validation_loss))"
   ]
  },
  {
   "cell_type": "code",
   "execution_count": 35,
   "metadata": {
    "execution": {
     "iopub.execute_input": "2021-10-11T23:53:21.905382Z",
     "iopub.status.busy": "2021-10-11T23:53:21.904698Z",
     "iopub.status.idle": "2021-10-12T00:23:46.177478Z",
     "shell.execute_reply": "2021-10-12T00:23:46.176781Z",
     "shell.execute_reply.started": "2021-10-11T23:53:21.905346Z"
    },
    "id": "JjWUW3lHANum"
   },
   "outputs": [],
   "source": [
    "epochs = 400\n",
    "\n",
    "datagen = ImageDataGenerator(width_shift_range=0.1, height_shift_range=0.1, horizontal_flip=True )\n",
    "es = tf.keras.callbacks.EarlyStopping(monitor='val_loss', mode='min',patience=30, restore_best_weights=True)"
   ]
  },
  {
   "cell_type": "code",
   "execution_count": 38,
   "metadata": {
    "colab": {
     "base_uri": "https://localhost:8080/"
    },
    "id": "RvgcW11XOnqf",
    "outputId": "35bb3667-74e3-48ec-a8e0-d244dcafa75c",
    "scrolled": false
   },
   "outputs": [
    {
     "name": "stdout",
     "output_type": "stream",
     "text": [
      "Epoch 1/400\n",
      "143/143 [==============================] - 9s 54ms/step - loss: 5.6274 - accuracy: 0.0234 - val_loss: 6.8458 - val_accuracy: 0.0437\n",
      "Epoch 2/400\n",
      "143/143 [==============================] - 8s 55ms/step - loss: 4.7690 - accuracy: 0.0484 - val_loss: 4.0262 - val_accuracy: 0.1050\n",
      "Epoch 3/400\n",
      "143/143 [==============================] - 8s 54ms/step - loss: 4.4076 - accuracy: 0.0715 - val_loss: 3.8822 - val_accuracy: 0.1200\n",
      "Epoch 4/400\n",
      "143/143 [==============================] - 8s 54ms/step - loss: 4.2198 - accuracy: 0.0871 - val_loss: 3.7630 - val_accuracy: 0.1363\n",
      "Epoch 5/400\n",
      "143/143 [==============================] - 8s 53ms/step - loss: 4.0492 - accuracy: 0.1010 - val_loss: 3.7418 - val_accuracy: 0.1425\n",
      "Epoch 6/400\n",
      "143/143 [==============================] - 8s 54ms/step - loss: 3.9127 - accuracy: 0.1147 - val_loss: 3.8130 - val_accuracy: 0.1500\n",
      "Epoch 7/400\n",
      "143/143 [==============================] - 8s 56ms/step - loss: 3.8033 - accuracy: 0.1271 - val_loss: 3.6755 - val_accuracy: 0.1600\n",
      "Epoch 8/400\n",
      "143/143 [==============================] - 8s 55ms/step - loss: 3.6900 - accuracy: 0.1387 - val_loss: 3.4569 - val_accuracy: 0.1762\n",
      "Epoch 9/400\n",
      "143/143 [==============================] - 8s 56ms/step - loss: 3.5956 - accuracy: 0.1578 - val_loss: 3.4357 - val_accuracy: 0.1838\n",
      "Epoch 10/400\n",
      "143/143 [==============================] - 8s 56ms/step - loss: 3.4987 - accuracy: 0.1704 - val_loss: 3.4518 - val_accuracy: 0.1700\n",
      "Epoch 11/400\n",
      "143/143 [==============================] - 8s 56ms/step - loss: 3.4006 - accuracy: 0.1803 - val_loss: 3.1945 - val_accuracy: 0.2375\n",
      "Epoch 12/400\n",
      "143/143 [==============================] - 8s 55ms/step - loss: 3.3322 - accuracy: 0.1929 - val_loss: 3.2362 - val_accuracy: 0.2138\n",
      "Epoch 13/400\n",
      "143/143 [==============================] - 8s 55ms/step - loss: 3.2607 - accuracy: 0.2061 - val_loss: 3.0915 - val_accuracy: 0.2438\n",
      "Epoch 14/400\n",
      "143/143 [==============================] - 8s 54ms/step - loss: 3.1475 - accuracy: 0.2196 - val_loss: 3.0730 - val_accuracy: 0.2562\n",
      "Epoch 15/400\n",
      "143/143 [==============================] - 8s 53ms/step - loss: 3.1103 - accuracy: 0.2244 - val_loss: 2.9547 - val_accuracy: 0.2788\n",
      "Epoch 16/400\n",
      "143/143 [==============================] - 8s 55ms/step - loss: 3.0189 - accuracy: 0.2417 - val_loss: 2.9810 - val_accuracy: 0.2788\n",
      "Epoch 17/400\n",
      "143/143 [==============================] - 8s 56ms/step - loss: 2.9999 - accuracy: 0.2477 - val_loss: 3.0024 - val_accuracy: 0.2688\n",
      "Epoch 18/400\n",
      "143/143 [==============================] - 8s 55ms/step - loss: 2.9256 - accuracy: 0.2549 - val_loss: 2.7517 - val_accuracy: 0.3225\n",
      "Epoch 19/400\n",
      "143/143 [==============================] - 8s 54ms/step - loss: 2.8696 - accuracy: 0.2684 - val_loss: 2.8234 - val_accuracy: 0.2950\n",
      "Epoch 20/400\n",
      "143/143 [==============================] - 7s 52ms/step - loss: 2.8163 - accuracy: 0.2758 - val_loss: 2.7885 - val_accuracy: 0.2975\n",
      "Epoch 21/400\n",
      "143/143 [==============================] - 7s 52ms/step - loss: 2.7667 - accuracy: 0.2817 - val_loss: 2.7736 - val_accuracy: 0.2925\n",
      "Epoch 22/400\n",
      "143/143 [==============================] - 7s 51ms/step - loss: 2.7241 - accuracy: 0.2963 - val_loss: 2.7670 - val_accuracy: 0.3100\n",
      "Epoch 23/400\n",
      "143/143 [==============================] - 8s 54ms/step - loss: 2.6786 - accuracy: 0.3055 - val_loss: 2.6334 - val_accuracy: 0.3400\n",
      "Epoch 24/400\n",
      "143/143 [==============================] - 8s 56ms/step - loss: 2.6332 - accuracy: 0.3145 - val_loss: 2.6574 - val_accuracy: 0.3250\n",
      "Epoch 25/400\n",
      "143/143 [==============================] - 8s 55ms/step - loss: 2.5977 - accuracy: 0.3165 - val_loss: 2.6538 - val_accuracy: 0.3462\n",
      "Epoch 26/400\n",
      "143/143 [==============================] - 8s 53ms/step - loss: 2.5573 - accuracy: 0.3244 - val_loss: 2.5988 - val_accuracy: 0.3388\n",
      "Epoch 27/400\n",
      "143/143 [==============================] - 8s 54ms/step - loss: 2.5276 - accuracy: 0.3312 - val_loss: 2.6265 - val_accuracy: 0.3462\n",
      "Epoch 28/400\n",
      "143/143 [==============================] - 7s 52ms/step - loss: 2.4958 - accuracy: 0.3367 - val_loss: 2.5568 - val_accuracy: 0.3587\n",
      "Epoch 29/400\n",
      "143/143 [==============================] - 8s 53ms/step - loss: 2.4808 - accuracy: 0.3382 - val_loss: 2.5962 - val_accuracy: 0.3562\n",
      "Epoch 30/400\n",
      "143/143 [==============================] - 8s 54ms/step - loss: 2.4469 - accuracy: 0.3459 - val_loss: 2.7576 - val_accuracy: 0.3212\n",
      "Epoch 31/400\n",
      "143/143 [==============================] - 8s 54ms/step - loss: 2.4099 - accuracy: 0.3615 - val_loss: 2.4809 - val_accuracy: 0.3512\n",
      "Epoch 32/400\n",
      "143/143 [==============================] - 7s 51ms/step - loss: 2.3622 - accuracy: 0.3700 - val_loss: 2.5426 - val_accuracy: 0.3562\n",
      "Epoch 33/400\n",
      "143/143 [==============================] - 8s 53ms/step - loss: 2.3318 - accuracy: 0.3728 - val_loss: 2.5017 - val_accuracy: 0.3787\n",
      "Epoch 34/400\n",
      "143/143 [==============================] - 7s 51ms/step - loss: 2.3287 - accuracy: 0.3679 - val_loss: 2.4139 - val_accuracy: 0.4112\n",
      "Epoch 35/400\n",
      "143/143 [==============================] - 8s 54ms/step - loss: 2.3191 - accuracy: 0.3783 - val_loss: 2.4777 - val_accuracy: 0.3562\n",
      "Epoch 36/400\n",
      "143/143 [==============================] - 8s 55ms/step - loss: 2.2661 - accuracy: 0.3890 - val_loss: 2.3240 - val_accuracy: 0.4425\n",
      "Epoch 37/400\n",
      "143/143 [==============================] - 8s 55ms/step - loss: 2.2161 - accuracy: 0.3993 - val_loss: 2.3814 - val_accuracy: 0.3938\n",
      "Epoch 38/400\n",
      "143/143 [==============================] - 7s 51ms/step - loss: 2.2273 - accuracy: 0.3959 - val_loss: 2.5022 - val_accuracy: 0.3850\n",
      "Epoch 39/400\n",
      "143/143 [==============================] - 8s 53ms/step - loss: 2.1939 - accuracy: 0.3986 - val_loss: 2.4896 - val_accuracy: 0.3837\n",
      "Epoch 40/400\n",
      "143/143 [==============================] - 8s 55ms/step - loss: 2.1761 - accuracy: 0.4096 - val_loss: 2.3857 - val_accuracy: 0.4212\n",
      "Epoch 41/400\n",
      "143/143 [==============================] - 8s 55ms/step - loss: 2.1487 - accuracy: 0.4190 - val_loss: 2.3594 - val_accuracy: 0.4013\n",
      "Epoch 42/400\n",
      "143/143 [==============================] - 8s 56ms/step - loss: 2.1418 - accuracy: 0.4170 - val_loss: 2.4141 - val_accuracy: 0.4100\n",
      "Epoch 43/400\n",
      "143/143 [==============================] - 8s 56ms/step - loss: 2.0991 - accuracy: 0.4195 - val_loss: 2.3641 - val_accuracy: 0.4038\n",
      "Epoch 44/400\n",
      "143/143 [==============================] - 8s 56ms/step - loss: 2.0869 - accuracy: 0.4236 - val_loss: 2.3054 - val_accuracy: 0.4150\n",
      "Epoch 45/400\n",
      "143/143 [==============================] - 8s 56ms/step - loss: 2.0734 - accuracy: 0.4278 - val_loss: 2.3990 - val_accuracy: 0.4125\n",
      "Epoch 46/400\n",
      "143/143 [==============================] - 8s 57ms/step - loss: 2.0495 - accuracy: 0.4286 - val_loss: 2.4010 - val_accuracy: 0.3887\n",
      "Epoch 47/400\n",
      "143/143 [==============================] - 8s 57ms/step - loss: 2.0094 - accuracy: 0.4452 - val_loss: 2.3730 - val_accuracy: 0.4000\n",
      "Epoch 48/400\n",
      "143/143 [==============================] - 8s 57ms/step - loss: 2.0151 - accuracy: 0.4401 - val_loss: 2.3381 - val_accuracy: 0.4150\n",
      "Epoch 49/400\n",
      "143/143 [==============================] - 8s 56ms/step - loss: 1.9815 - accuracy: 0.4446 - val_loss: 2.2732 - val_accuracy: 0.4175\n",
      "Epoch 50/400\n",
      "143/143 [==============================] - 8s 58ms/step - loss: 1.9970 - accuracy: 0.4454 - val_loss: 2.3372 - val_accuracy: 0.4112\n",
      "Epoch 51/400\n",
      "143/143 [==============================] - 8s 57ms/step - loss: 1.9337 - accuracy: 0.4608 - val_loss: 2.2753 - val_accuracy: 0.4263\n",
      "Epoch 52/400\n",
      "143/143 [==============================] - 8s 56ms/step - loss: 1.9292 - accuracy: 0.4593 - val_loss: 2.3271 - val_accuracy: 0.4263\n",
      "Epoch 53/400\n",
      "143/143 [==============================] - 8s 57ms/step - loss: 1.9089 - accuracy: 0.4603 - val_loss: 2.2665 - val_accuracy: 0.4225\n",
      "Epoch 54/400\n",
      "143/143 [==============================] - 8s 57ms/step - loss: 1.8932 - accuracy: 0.4666 - val_loss: 2.2978 - val_accuracy: 0.4325\n",
      "Epoch 55/400\n",
      "143/143 [==============================] - 8s 57ms/step - loss: 1.8742 - accuracy: 0.4725 - val_loss: 2.2449 - val_accuracy: 0.4412\n",
      "Epoch 56/400\n",
      "143/143 [==============================] - 8s 57ms/step - loss: 1.8825 - accuracy: 0.4782 - val_loss: 2.2959 - val_accuracy: 0.4263\n",
      "Epoch 57/400\n",
      "143/143 [==============================] - 8s 58ms/step - loss: 1.8531 - accuracy: 0.4816 - val_loss: 2.3445 - val_accuracy: 0.4150\n",
      "Epoch 58/400\n",
      "143/143 [==============================] - 8s 56ms/step - loss: 1.8443 - accuracy: 0.4854 - val_loss: 2.2760 - val_accuracy: 0.4363\n",
      "Epoch 59/400\n",
      "143/143 [==============================] - 8s 56ms/step - loss: 1.7965 - accuracy: 0.4950 - val_loss: 2.1884 - val_accuracy: 0.4363\n",
      "Epoch 60/400\n",
      "143/143 [==============================] - 8s 57ms/step - loss: 1.8045 - accuracy: 0.4873 - val_loss: 2.2799 - val_accuracy: 0.4412\n",
      "Epoch 61/400\n",
      "143/143 [==============================] - 8s 58ms/step - loss: 1.8030 - accuracy: 0.4916 - val_loss: 2.1645 - val_accuracy: 0.4575\n",
      "Epoch 62/400\n",
      "143/143 [==============================] - 8s 58ms/step - loss: 1.7886 - accuracy: 0.4864 - val_loss: 2.4344 - val_accuracy: 0.4263\n",
      "Epoch 63/400\n",
      "143/143 [==============================] - 8s 58ms/step - loss: 1.7636 - accuracy: 0.4972 - val_loss: 2.2328 - val_accuracy: 0.4338\n",
      "Epoch 64/400\n",
      "143/143 [==============================] - 8s 58ms/step - loss: 1.7568 - accuracy: 0.5025 - val_loss: 2.1984 - val_accuracy: 0.4263\n",
      "Epoch 65/400\n",
      "143/143 [==============================] - 8s 58ms/step - loss: 1.7329 - accuracy: 0.5095 - val_loss: 2.2888 - val_accuracy: 0.4313\n",
      "Epoch 66/400\n",
      "143/143 [==============================] - 9s 59ms/step - loss: 1.7454 - accuracy: 0.5036 - val_loss: 2.2957 - val_accuracy: 0.4387\n",
      "Epoch 67/400\n",
      "143/143 [==============================] - 8s 57ms/step - loss: 1.7087 - accuracy: 0.5124 - val_loss: 2.1787 - val_accuracy: 0.4325\n",
      "Epoch 68/400\n",
      "143/143 [==============================] - 8s 57ms/step - loss: 1.6919 - accuracy: 0.5212 - val_loss: 2.2338 - val_accuracy: 0.4500\n",
      "Epoch 69/400\n",
      "143/143 [==============================] - 8s 55ms/step - loss: 1.6899 - accuracy: 0.5114 - val_loss: 2.1839 - val_accuracy: 0.4525\n",
      "Epoch 70/400\n",
      "143/143 [==============================] - 8s 55ms/step - loss: 1.6921 - accuracy: 0.5180 - val_loss: 2.1579 - val_accuracy: 0.4525\n",
      "Epoch 71/400\n",
      "143/143 [==============================] - 8s 55ms/step - loss: 1.6737 - accuracy: 0.5228 - val_loss: 2.2020 - val_accuracy: 0.4437\n",
      "Epoch 72/400\n",
      "143/143 [==============================] - 8s 55ms/step - loss: 1.6338 - accuracy: 0.5363 - val_loss: 2.1978 - val_accuracy: 0.4400\n",
      "Epoch 73/400\n",
      "143/143 [==============================] - 8s 54ms/step - loss: 1.6548 - accuracy: 0.5253 - val_loss: 2.2719 - val_accuracy: 0.4375\n",
      "Epoch 74/400\n",
      "143/143 [==============================] - 8s 54ms/step - loss: 1.6190 - accuracy: 0.5331 - val_loss: 2.2086 - val_accuracy: 0.4400\n",
      "Epoch 75/400\n",
      "143/143 [==============================] - 8s 55ms/step - loss: 1.6274 - accuracy: 0.5300 - val_loss: 2.1374 - val_accuracy: 0.4737\n",
      "Epoch 76/400\n",
      "143/143 [==============================] - 8s 55ms/step - loss: 1.6049 - accuracy: 0.5420 - val_loss: 2.2116 - val_accuracy: 0.4425\n",
      "Epoch 77/400\n",
      "143/143 [==============================] - 8s 57ms/step - loss: 1.6041 - accuracy: 0.5451 - val_loss: 2.2266 - val_accuracy: 0.4412\n",
      "Epoch 78/400\n",
      "143/143 [==============================] - 8s 56ms/step - loss: 1.5852 - accuracy: 0.5412 - val_loss: 2.0853 - val_accuracy: 0.4812\n",
      "Epoch 79/400\n",
      "143/143 [==============================] - 8s 55ms/step - loss: 1.5714 - accuracy: 0.5476 - val_loss: 2.1919 - val_accuracy: 0.4563\n",
      "Epoch 80/400\n",
      "143/143 [==============================] - 8s 56ms/step - loss: 1.5543 - accuracy: 0.5447 - val_loss: 2.1201 - val_accuracy: 0.4663\n",
      "Epoch 81/400\n",
      "143/143 [==============================] - 8s 54ms/step - loss: 1.5738 - accuracy: 0.5482 - val_loss: 2.1961 - val_accuracy: 0.4725\n",
      "Epoch 82/400\n",
      "143/143 [==============================] - 8s 54ms/step - loss: 1.5452 - accuracy: 0.5483 - val_loss: 2.1349 - val_accuracy: 0.4600\n",
      "Epoch 83/400\n",
      "143/143 [==============================] - 8s 56ms/step - loss: 1.5538 - accuracy: 0.5497 - val_loss: 2.1022 - val_accuracy: 0.4837\n",
      "Epoch 84/400\n",
      "143/143 [==============================] - 8s 56ms/step - loss: 1.5266 - accuracy: 0.5578 - val_loss: 2.1620 - val_accuracy: 0.4425\n",
      "Epoch 85/400\n",
      "143/143 [==============================] - 8s 54ms/step - loss: 1.5280 - accuracy: 0.5552 - val_loss: 2.1744 - val_accuracy: 0.4613\n",
      "Epoch 86/400\n",
      "143/143 [==============================] - 8s 56ms/step - loss: 1.5134 - accuracy: 0.5548 - val_loss: 2.2126 - val_accuracy: 0.4525\n",
      "Epoch 87/400\n",
      "143/143 [==============================] - 8s 55ms/step - loss: 1.4941 - accuracy: 0.5644 - val_loss: 2.1522 - val_accuracy: 0.4650\n",
      "Epoch 88/400\n",
      "143/143 [==============================] - 8s 55ms/step - loss: 1.4832 - accuracy: 0.5672 - val_loss: 2.1382 - val_accuracy: 0.4712\n",
      "Epoch 89/400\n",
      "143/143 [==============================] - 8s 55ms/step - loss: 1.4803 - accuracy: 0.5645 - val_loss: 2.1092 - val_accuracy: 0.4775\n",
      "Epoch 90/400\n",
      "143/143 [==============================] - 8s 54ms/step - loss: 1.4599 - accuracy: 0.5683 - val_loss: 2.1125 - val_accuracy: 0.4675\n",
      "Epoch 91/400\n",
      "143/143 [==============================] - 8s 56ms/step - loss: 1.4517 - accuracy: 0.5759 - val_loss: 2.2257 - val_accuracy: 0.4538\n",
      "Epoch 92/400\n",
      "143/143 [==============================] - 8s 54ms/step - loss: 1.4444 - accuracy: 0.5759 - val_loss: 2.1531 - val_accuracy: 0.4688\n",
      "Epoch 93/400\n",
      "143/143 [==============================] - 8s 56ms/step - loss: 1.4668 - accuracy: 0.5732 - val_loss: 2.1610 - val_accuracy: 0.4613\n",
      "Epoch 94/400\n",
      "143/143 [==============================] - 8s 57ms/step - loss: 1.4503 - accuracy: 0.5786 - val_loss: 2.1629 - val_accuracy: 0.4575\n",
      "Epoch 95/400\n",
      "143/143 [==============================] - 8s 57ms/step - loss: 1.4292 - accuracy: 0.5785 - val_loss: 2.1325 - val_accuracy: 0.4563\n",
      "Epoch 96/400\n",
      "143/143 [==============================] - 8s 56ms/step - loss: 1.4230 - accuracy: 0.5812 - val_loss: 2.2334 - val_accuracy: 0.4550\n",
      "Epoch 97/400\n",
      "143/143 [==============================] - 8s 57ms/step - loss: 1.4278 - accuracy: 0.5790 - val_loss: 2.1526 - val_accuracy: 0.4600\n",
      "Epoch 98/400\n",
      "143/143 [==============================] - 8s 57ms/step - loss: 1.4102 - accuracy: 0.5882 - val_loss: 2.2413 - val_accuracy: 0.4487\n",
      "Epoch 99/400\n",
      "143/143 [==============================] - 8s 57ms/step - loss: 1.4016 - accuracy: 0.5898 - val_loss: 2.2489 - val_accuracy: 0.4437\n",
      "Epoch 100/400\n",
      "143/143 [==============================] - 8s 55ms/step - loss: 1.3934 - accuracy: 0.5901 - val_loss: 2.2227 - val_accuracy: 0.4762\n",
      "Epoch 101/400\n",
      "143/143 [==============================] - 8s 57ms/step - loss: 1.4030 - accuracy: 0.5815 - val_loss: 2.1537 - val_accuracy: 0.4850\n",
      "Epoch 102/400\n",
      "143/143 [==============================] - 8s 55ms/step - loss: 1.3765 - accuracy: 0.5942 - val_loss: 2.1434 - val_accuracy: 0.4588\n",
      "Epoch 103/400\n",
      "143/143 [==============================] - 8s 55ms/step - loss: 1.3535 - accuracy: 0.5988 - val_loss: 2.2061 - val_accuracy: 0.4812\n",
      "Epoch 104/400\n",
      "143/143 [==============================] - 8s 56ms/step - loss: 1.3659 - accuracy: 0.5962 - val_loss: 2.1212 - val_accuracy: 0.4775\n",
      "Epoch 105/400\n",
      "143/143 [==============================] - 8s 56ms/step - loss: 1.3504 - accuracy: 0.5999 - val_loss: 2.2469 - val_accuracy: 0.4500\n",
      "Epoch 106/400\n",
      "143/143 [==============================] - 8s 57ms/step - loss: 1.3514 - accuracy: 0.6017 - val_loss: 2.2172 - val_accuracy: 0.4737\n",
      "Epoch 107/400\n",
      "143/143 [==============================] - 8s 55ms/step - loss: 1.3422 - accuracy: 0.6055 - val_loss: 2.2018 - val_accuracy: 0.4625\n",
      "Epoch 108/400\n",
      "143/143 [==============================] - 8s 56ms/step - loss: 1.3243 - accuracy: 0.6100 - val_loss: 2.1248 - val_accuracy: 0.4850\n"
     ]
    }
   ],
   "source": [
    "steps = int(x_train.shape[0] / 64)\n",
    "history = model.fit_generator(datagen.flow(x_train, y_train, batch_size=64), steps_per_epoch=steps,validation_data=(x_val, y_val), epochs=epochs, verbose=1, callbacks=[es])"
   ]
  },
  {
   "cell_type": "markdown",
   "metadata": {},
   "source": [
    "### Calculate accuracy "
   ]
  },
  {
   "cell_type": "code",
   "execution_count": 39,
   "metadata": {
    "colab": {
     "base_uri": "https://localhost:8080/"
    },
    "execution": {
     "iopub.execute_input": "2021-10-12T00:24:00.278385Z",
     "iopub.status.busy": "2021-10-12T00:24:00.277920Z",
     "iopub.status.idle": "2021-10-12T00:24:01.723533Z",
     "shell.execute_reply": "2021-10-12T00:24:01.722794Z",
     "shell.execute_reply.started": "2021-10-12T00:24:00.278348Z"
    },
    "id": "ISKwGsOVANuo",
    "outputId": "bd477730-145b-4489-e7a2-46a39fddd846"
   },
   "outputs": [
    {
     "name": "stdout",
     "output_type": "stream",
     "text": [
      "Training accuracy = 79.17% \t Training Loss = 0.7354\n",
      "Validation accuracy = 48.12% \t Validation Loss = 2.0853\n"
     ]
    }
   ],
   "source": [
    "train_loss, train_accuracy = model.evaluate(x_train, y_train, verbose = 0)\n",
    "validation_loss, validation_accuracy = model.evaluate(x_val, y_val, verbose = 0)\n",
    "\n",
    "print(\"Training accuracy = %0.2f%% \\t Training Loss = %0.4f\" %(100 * train_accuracy, train_loss))\n",
    "print(\"Validation accuracy = %0.2f%% \\t Validation Loss = %0.4f\" %(100 * validation_accuracy, validation_loss))"
   ]
  },
  {
   "cell_type": "code",
   "execution_count": 40,
   "metadata": {
    "execution": {
     "iopub.execute_input": "2021-10-12T00:24:05.102696Z",
     "iopub.status.busy": "2021-10-12T00:24:05.102439Z",
     "iopub.status.idle": "2021-10-12T00:24:05.471861Z",
     "shell.execute_reply": "2021-10-12T00:24:05.471122Z",
     "shell.execute_reply.started": "2021-10-12T00:24:05.102667Z"
    },
    "id": "8AodKc4MANuo"
   },
   "outputs": [],
   "source": [
    "pred = model.predict(test_df)"
   ]
  },
  {
   "cell_type": "code",
   "execution_count": 41,
   "metadata": {
    "colab": {
     "base_uri": "https://localhost:8080/"
    },
    "execution": {
     "iopub.execute_input": "2021-10-12T00:24:06.068884Z",
     "iopub.status.busy": "2021-10-12T00:24:06.068365Z",
     "iopub.status.idle": "2021-10-12T00:24:06.078584Z",
     "shell.execute_reply": "2021-10-12T00:24:06.077846Z",
     "shell.execute_reply.started": "2021-10-12T00:24:06.068850Z"
    },
    "id": "_dK_2MQHANuo",
    "outputId": "d85c1711-9d60-4bd6-abb1-fd6d2bc4498f"
   },
   "outputs": [
    {
     "data": {
      "text/plain": [
       "(2000, 2)"
      ]
     },
     "execution_count": 41,
     "metadata": {},
     "output_type": "execute_result"
    }
   ],
   "source": [
    "df= pd.DataFrame(np.argmax(pred, axis=1), columns=[\"label\"])\n",
    "df.insert(0, \"id\", np.arange(len(ans)))\n",
    "df.shape"
   ]
  },
  {
   "cell_type": "code",
   "execution_count": 42,
   "metadata": {
    "execution": {
     "iopub.execute_input": "2021-10-12T00:24:13.532240Z",
     "iopub.status.busy": "2021-10-12T00:24:13.531389Z",
     "iopub.status.idle": "2021-10-12T00:24:13.540803Z",
     "shell.execute_reply": "2021-10-12T00:24:13.539995Z",
     "shell.execute_reply.started": "2021-10-12T00:24:13.532193Z"
    },
    "id": "5Na1C8r5ANuo"
   },
   "outputs": [],
   "source": [
    "df.to_csv(\"attempt2.1.2.csv\", index=False)"
   ]
  },
  {
   "cell_type": "code",
   "execution_count": 43,
   "metadata": {
    "colab": {
     "base_uri": "https://localhost:8080/",
     "height": 419
    },
    "id": "ivoG63lLANuo",
    "outputId": "c88301fc-fbb3-49e1-8cce-727b759716ec"
   },
   "outputs": [
    {
     "data": {
      "text/html": [
       "<div>\n",
       "<style scoped>\n",
       "    .dataframe tbody tr th:only-of-type {\n",
       "        vertical-align: middle;\n",
       "    }\n",
       "\n",
       "    .dataframe tbody tr th {\n",
       "        vertical-align: top;\n",
       "    }\n",
       "\n",
       "    .dataframe thead th {\n",
       "        text-align: right;\n",
       "    }\n",
       "</style>\n",
       "<table border=\"1\" class=\"dataframe\">\n",
       "  <thead>\n",
       "    <tr style=\"text-align: right;\">\n",
       "      <th></th>\n",
       "      <th>id</th>\n",
       "      <th>label</th>\n",
       "    </tr>\n",
       "  </thead>\n",
       "  <tbody>\n",
       "    <tr>\n",
       "      <th>0</th>\n",
       "      <td>0</td>\n",
       "      <td>77</td>\n",
       "    </tr>\n",
       "    <tr>\n",
       "      <th>1</th>\n",
       "      <td>1</td>\n",
       "      <td>65</td>\n",
       "    </tr>\n",
       "    <tr>\n",
       "      <th>2</th>\n",
       "      <td>2</td>\n",
       "      <td>17</td>\n",
       "    </tr>\n",
       "    <tr>\n",
       "      <th>3</th>\n",
       "      <td>3</td>\n",
       "      <td>43</td>\n",
       "    </tr>\n",
       "    <tr>\n",
       "      <th>4</th>\n",
       "      <td>4</td>\n",
       "      <td>20</td>\n",
       "    </tr>\n",
       "    <tr>\n",
       "      <th>...</th>\n",
       "      <td>...</td>\n",
       "      <td>...</td>\n",
       "    </tr>\n",
       "    <tr>\n",
       "      <th>1995</th>\n",
       "      <td>1995</td>\n",
       "      <td>4</td>\n",
       "    </tr>\n",
       "    <tr>\n",
       "      <th>1996</th>\n",
       "      <td>1996</td>\n",
       "      <td>93</td>\n",
       "    </tr>\n",
       "    <tr>\n",
       "      <th>1997</th>\n",
       "      <td>1997</td>\n",
       "      <td>88</td>\n",
       "    </tr>\n",
       "    <tr>\n",
       "      <th>1998</th>\n",
       "      <td>1998</td>\n",
       "      <td>1</td>\n",
       "    </tr>\n",
       "    <tr>\n",
       "      <th>1999</th>\n",
       "      <td>1999</td>\n",
       "      <td>52</td>\n",
       "    </tr>\n",
       "  </tbody>\n",
       "</table>\n",
       "<p>2000 rows × 2 columns</p>\n",
       "</div>"
      ],
      "text/plain": [
       "        id  label\n",
       "0        0     77\n",
       "1        1     65\n",
       "2        2     17\n",
       "3        3     43\n",
       "4        4     20\n",
       "...    ...    ...\n",
       "1995  1995      4\n",
       "1996  1996     93\n",
       "1997  1997     88\n",
       "1998  1998      1\n",
       "1999  1999     52\n",
       "\n",
       "[2000 rows x 2 columns]"
      ]
     },
     "execution_count": 43,
     "metadata": {},
     "output_type": "execute_result"
    }
   ],
   "source": [
    "df"
   ]
  }
 ],
 "metadata": {
  "accelerator": "GPU",
  "colab": {
   "name": "lab-1-part-2.ipynb",
   "provenance": []
  },
  "kernelspec": {
   "display_name": "Python 3 (ipykernel)",
   "language": "python",
   "name": "python3"
  },
  "language_info": {
   "codemirror_mode": {
    "name": "ipython",
    "version": 3
   },
   "file_extension": ".py",
   "mimetype": "text/x-python",
   "name": "python",
   "nbconvert_exporter": "python",
   "pygments_lexer": "ipython3",
   "version": "3.8.11"
  }
 },
 "nbformat": 4,
 "nbformat_minor": 1
}
